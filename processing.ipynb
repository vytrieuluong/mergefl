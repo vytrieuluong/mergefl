{
 "cells": [
  {
   "cell_type": "code",
   "execution_count": 15,
   "metadata": {},
   "outputs": [],
   "source": [
    "import numpy as np\n",
    "import pandas as pd\n",
    "import matplotlib.pyplot as plt\n",
    "import seaborn as sns\n",
    "import os\n",
    "from sklearn.preprocessing import LabelEncoder"
   ]
  },
  {
   "cell_type": "code",
   "execution_count": null,
   "metadata": {},
   "outputs": [],
   "source": [
    "!pip install openpyxl\n",
    "!pip install xlrd==1.2.0\n",
    "!pip install xlwt"
   ]
  },
  {
   "cell_type": "code",
   "execution_count": 20,
   "metadata": {},
   "outputs": [],
   "source": [
    "import openpyxl"
   ]
  },
  {
   "cell_type": "code",
   "execution_count": null,
   "metadata": {},
   "outputs": [],
   "source": [
    "dataset = pd.read_excel(\"dataset/testClinData.xls\", engine='openpyxl')\n",
    "dataset = dataset.replace(r'^\\s*$', np.nan, regex=True)"
   ]
  },
  {
   "cell_type": "code",
   "execution_count": null,
   "metadata": {},
   "outputs": [],
   "source": [
    "# Creating an instance of label Encoder.\n",
    "le = LabelEncoder()"
   ]
  },
  {
   "cell_type": "code",
   "execution_count": null,
   "metadata": {},
   "outputs": [],
   "source": [
    "# Using .fit_transform function to fit label encoder and return encoded label\n",
    "label = le.fit_transform(dataset['Prognosis'])\n",
    "dataset[\"Prognosis\"] = label"
   ]
  },
  {
   "cell_type": "code",
   "execution_count": null,
   "metadata": {},
   "outputs": [],
   "source": [
    "del dataset[\"Fibrinogen\"]\n",
    "del dataset[\"PCT\"]\n",
    "del dataset[\"D_dimer\"]\n",
    "del dataset[\"SaO2\"]\n",
    "del dataset[\"Obesity\"]"
   ]
  },
  {
   "cell_type": "code",
   "execution_count": null,
   "metadata": {},
   "outputs": [],
   "source": [
    "testdataset = pd.read_excel(\"/kaggle/input/dummydataset/train_testSet/testClinData.xls\")\n",
    "testdataset = testdataset.replace(r'^\\s*$', np.nan, regex=True)\n",
    "le = LabelEncoder()\n",
    "label = le.fit_transform(testdataset['Prognosis'])\n",
    "testdataset[\"Prognosis\"] = label\n",
    "del testdataset[\"Fibrinogen\"]\n",
    "del testdataset[\"PCT\"]\n",
    "del testdataset[\"D_dimer\"]\n",
    "del testdataset[\"SaO2\"]\n",
    "del testdataset[\"Obesity\"]"
   ]
  },
  {
   "cell_type": "code",
   "execution_count": null,
   "metadata": {},
   "outputs": [],
   "source": [
    "dataset.to_excel('/kaggle/working/trainClinData.xlsx', sheet_name='trainset')\n",
    "testdataset.to_excel('/kaggle/working/testClinData.xlsx', sheet_name='testset')"
   ]
  },
  {
   "cell_type": "code",
   "execution_count": null,
   "metadata": {},
   "outputs": [],
   "source": []
  },
  {
   "cell_type": "code",
   "execution_count": null,
   "metadata": {},
   "outputs": [],
   "source": []
  }
 ],
 "metadata": {
  "kernelspec": {
   "display_name": "Python (myenv)",
   "language": "python",
   "name": "myenv"
  },
  "language_info": {
   "codemirror_mode": {
    "name": "ipython",
    "version": 3
   },
   "file_extension": ".py",
   "mimetype": "text/x-python",
   "name": "python",
   "nbconvert_exporter": "python",
   "pygments_lexer": "ipython3",
   "version": "3.12.3"
  }
 },
 "nbformat": 4,
 "nbformat_minor": 2
}
